{
 "cells": [
  {
   "cell_type": "code",
   "execution_count": 1,
   "metadata": {},
   "outputs": [],
   "source": [
    "import os\n",
    "import torch\n",
    "import torchaudio\n",
    "import matplotlib.pyplot as plt\n",
    "from src.metrics import *\n",
    "from src.gest_segm import *\n",
    "from src.dataset import *"
   ]
  },
  {
   "cell_type": "code",
   "execution_count": 2,
   "metadata": {},
   "outputs": [
    {
     "name": "stdout",
     "output_type": "stream",
     "text": [
      "Interval 0 to 5 seconds:\n",
      "('rec1', 'Speaker 1', 0, 5)\n",
      "('rec1', 'Speaker 2', 3, 5)\n",
      "Interval 5 to 10 seconds:\n",
      "('rec1', 'Speaker 2', 8, 5)\n",
      "('rec1', 'Speaker 1', 8, 5)\n",
      "('rec1', 'Speaker 3', 6, 5)\n",
      "Interval 10 to 15 seconds:\n",
      "('rec1', 'Speaker 2', 13, 5)\n",
      "('rec1', 'Speaker 1', 13, 5)\n",
      "('rec1', 'Speaker 3', 11, 4)\n",
      "('rec1', 'Speaker 2', 12, 5)\n",
      "Interval 15 to 20 seconds:\n",
      "('rec1', 'Speaker 2', 18, 5)\n",
      "('rec1', 'Speaker 1', 18, 2)\n",
      "('rec1', 'Speaker 2', 17, 2)\n",
      "Interval 20 to 25 seconds:\n"
     ]
    }
   ],
   "source": [
    "segments = [\n",
    "    ('rec1', 'Speaker 1', 0, 5),\n",
    "    ('rec1', 'Speaker 2', 3, 20),\n",
    "    ('rec1', 'Speaker 1', 8, 12),\n",
    "    ('rec1', 'Speaker 3', 6, 9),\n",
    "    ('rec1', 'Speaker 2', 12, 7),\n",
    "]\n",
    "\n",
    "# Durée de chaque segment découpé en secondes\n",
    "segment_duration = 5\n",
    "max_time = 25  # Durée totale de l'enregistrement en secondes\n",
    "\n",
    "# Découper les segments\n",
    "decoupled_segments = decoupe_segments(segments, segment_duration, max_time)\n",
    "\n",
    "# Affichage du résultat\n",
    "for i, interval in enumerate(decoupled_segments):\n",
    "    print(f\"Interval {i * segment_duration} to {(i + 1) * segment_duration} seconds:\")\n",
    "    for seg in interval:\n",
    "        print(seg)"
   ]
  }
 ],
 "metadata": {
  "kernelspec": {
   "display_name": "base",
   "language": "python",
   "name": "python3"
  },
  "language_info": {
   "codemirror_mode": {
    "name": "ipython",
    "version": 3
   },
   "file_extension": ".py",
   "mimetype": "text/x-python",
   "name": "python",
   "nbconvert_exporter": "python",
   "pygments_lexer": "ipython3",
   "version": "3.12.3"
  }
 },
 "nbformat": 4,
 "nbformat_minor": 2
}

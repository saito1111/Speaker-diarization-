{
 "cells": [
  {
   "cell_type": "code",
   "execution_count": null,
   "metadata": {},
   "outputs": [],
   "source": [
    "# Ajouter le chemin au PYTHONPATH\n",
    "import sys\n",
    "sys.path.append('/path/to')\n",
    "\n",
    "# Importer les fonctions nécessaires\n",
    "from lib.speechbrain.recipes.AMI.ami_prepare import prepare_ami, get_AMI_split\n",
    "import logging\n",
    "import os\n",
    "\n",
    "logging.basicConfig(level=logging.DEBUG)\n",
    "logger = logging.getLogger(__name__)\n",
    "\n",
    "# Définir les paramètres\n",
    "data_folder = 'amicorpus'\n",
    "manual_annot_folder = 'amicorpus/ami_public_manual/'\n",
    "save_folder = 'annot_prepare/results/save/'\n",
    "ref_rttm_dir ='annot_prepare/results/rttm'\n",
    "meta_data_dir  ='annot_prepare/results/meta'\n",
    "\n",
    "# Exécuter la préparation\n",
    "prepare_ami(data_folder, manual_annot_folder, save_folder, ref_rttm_dir, meta_data_dir, split_type=\"full_corpus_asr\")\n",
    "# Define the directory containing RTTM files\n",
    "\n"
   ]
  },
  {
   "cell_type": "code",
   "execution_count": null,
   "metadata": {},
   "outputs": [],
   "source": [
    "# Ajouter le chemin au répertoire contenant le fichier Python\n",
    "import sys\n",
    "sys.path.append('/path/to/your/directory')\n",
    "\n",
    "# Importer les fonctions nécessaires\n",
    "from gest_segm import parse_rttm_file, get_segments_from_directory, plot_segments, filter_segments_before_n_seconds\n",
    "\n",
    "# Définir le répertoire contenant les fichiers RTTM\n",
    "rttm_directory = 'annot_prepare/results/rttm'\n",
    "\n",
    "# Obtenir tous les segments du répertoire\n",
    "segments = get_segments_from_directory(rttm_directory)\n",
    "\n",
    "# Tracer tous les segments\n",
    "plot_segments(segments, title=\"All Speaker Segments Over Time\")\n",
    "\n",
    "# Filtrer et tracer les segments qui se produisent avant n secondes\n",
    "n_seconds = 20  # spécifiez le nombre de secondes\n",
    "filtered_segments = filter_segments_before_n_seconds(segments, n_seconds)\n",
    "plot_segments(filtered_segments, title=f\"Speaker Segments Before {n_seconds} Seconds\")"
   ]
  }
 ],
 "metadata": {
  "kernelspec": {
   "display_name": "base",
   "language": "python",
   "name": "python3"
  },
  "language_info": {
   "codemirror_mode": {
    "name": "ipython",
    "version": 3
   },
   "file_extension": ".py",
   "mimetype": "text/x-python",
   "name": "python",
   "nbconvert_exporter": "python",
   "pygments_lexer": "ipython3",
   "version": "3.12.3"
  }
 },
 "nbformat": 4,
 "nbformat_minor": 2
}
